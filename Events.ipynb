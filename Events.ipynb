{
 "cells": [
  {
   "cell_type": "markdown",
   "id": "11986b7d",
   "metadata": {},
   "source": [
    "# Events \n",
    "\n",
    "- A mechanism for communication between objects.\n",
    "- Used in building loosely coupled applications.\n",
    "- Helps extending applications."
   ]
  },
  {
   "cell_type": "markdown",
   "id": "5f901dad",
   "metadata": {},
   "source": [
    "#### What we need to do to implement the Event mechanism: \n",
    "\n",
    "* Define a delegate\n",
    "* Define an Event based on that delegate \n",
    "* Raise the event \n",
    "\n",
    "> Conventions in C#: \n",
    "> - If the name of the event is ```VideoEncoded``` then our event handler delegate should be ```VideoEncodedEventHandler```\n",
    "> - The name of the event should be in \"past tense\" if the event is fired at the end of the execution, use the \"present\" tense if the event is executed before starting executing. \n",
    "> - Event publisher method should always have this signature: \n",
    ">```C#\n",
    ">protected virtual void onNameOfTheEvent(//args){}\n",
    ">```"
   ]
  },
  {
   "cell_type": "code",
   "execution_count": 3,
   "id": "6839ff82",
   "metadata": {},
   "outputs": [],
   "source": [
    "//Program.cs \n",
    "\n",
    "public class Program\n",
    "{\n",
    "    public static void Main()\n",
    "    {\n",
    "        var video = new Video() {Title = \"Video 1\"};\n",
    "        var videoEncoder = new VideoEncoder(); \n",
    "        \n",
    "        videoEncoder.Encode(video);\n",
    "    }\n",
    "}\n"
   ]
  },
  {
   "cell_type": "code",
   "execution_count": 1,
   "id": "dae320f6",
   "metadata": {},
   "outputs": [],
   "source": [
    "// Video.cs\n",
    "\n",
    "public class Video\n",
    "{\n",
    "    public string Title {get; set;}\n",
    "}"
   ]
  },
  {
   "cell_type": "code",
   "execution_count": 2,
   "id": "3116d78c",
   "metadata": {},
   "outputs": [],
   "source": [
    "// VideoEncoder.cs\n",
    "\n",
    "public class VideoEncoder\n",
    "{\n",
    "    public delegate void VideoEncodedEventHandler(object source, EventArgs e); //define a delegate\n",
    "    \n",
    "    public event VideoEncodedEventHandler VideoEncoded; //define an event based on that delegate\n",
    "    \n",
    "    public void Encode(Video video)\n",
    "    {\n",
    "        Console.WriteLine(\"Encodig video ..\");\n",
    "        System.Threading.Thread.Sleep(3000);\n",
    "    }\n",
    "    \n",
    "    protected virtual void OnVideoEncoded()\n",
    "    {\n",
    "        if (VideoEncoded != null)\n",
    "            /*\n",
    "                source is the calling object which is \"this\"\n",
    "                The second argument is used if we wanna pass any additional data\n",
    "                in this case we don't need to \n",
    "            */\n",
    "            VideoEncoded(this, EventArgs.Empty);\n",
    "    }\n",
    "}"
   ]
  },
  {
   "cell_type": "code",
   "execution_count": 4,
   "id": "472135b9",
   "metadata": {
    "scrolled": false
   },
   "outputs": [
    {
     "name": "stdout",
     "output_type": "stream",
     "text": [
      "Encodig video ..\r\n"
     ]
    }
   ],
   "source": [
    "// Executing the program\n",
    "Program.Main();"
   ]
  }
 ],
 "metadata": {
  "kernelspec": {
   "display_name": ".NET (C#)",
   "language": "C#",
   "name": ".net-csharp"
  },
  "language_info": {
   "file_extension": ".cs",
   "mimetype": "text/x-csharp",
   "name": "C#",
   "pygments_lexer": "csharp",
   "version": "8.0"
  }
 },
 "nbformat": 4,
 "nbformat_minor": 5
}
