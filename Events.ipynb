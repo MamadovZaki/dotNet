{
 "cells": [
  {
   "cell_type": "markdown",
   "id": "11986b7d",
   "metadata": {},
   "source": [
    "# Events \n",
    "\n",
    "- A mechanism for communication between objects.\n",
    "- Used in building loosely coupled applications.\n",
    "- Helps extending applications."
   ]
  },
  {
   "cell_type": "markdown",
   "id": "5f901dad",
   "metadata": {},
   "source": [
    "**Suppose we want to build a video encoder**\n",
    "\n",
    "```C#\n",
    "public class VideoEncoder\n",
    "{\n",
    "    public void Encode(Video video)\n",
    "    {\n",
    "        // Encoding logic \n",
    "        // ... \n",
    "        \n",
    "        _mailService.Send(new Mail());\n",
    "        _messageService.Send(new Text();\n",
    "    }\n",
    "}\n",
    "```\n",
    "\n",
    "**The disadvantages with such design**\n",
    "- The encode method does multiple things: encode videos, send mail and send messages \n",
    "- If we want to extend the program, we will have to modify the encode method and recomplile it "
   ]
  },
  {
   "cell_type": "markdown",
   "id": "6b4d83ab",
   "metadata": {},
   "source": [
    "### Using the Events mechanism to build the video encoder class \n",
    "\n",
    "Here we build 3 classes: \n",
    "- VideoEncoder\n",
    "- MailService\n",
    "- MessageService\n",
    "\n",
    "The VideoEncoder object will be responsible for **publishing** the event. the MailService and MessageService objects will **subscribe** to the event. \n",
    "\n",
    "In the following code, the method ```onVideoEncoded()``` will notify the objects which are interested in the encoding events that the process is done. \n",
    "\n",
    "```C#\n",
    "public class VideoEncoder\n",
    "{\n",
    "    public void Encode(Video video)\n",
    "    {\n",
    "        // Encoding logic \n",
    "        // ... \n",
    "\n",
    "        onVideoEncoded(); \n",
    "    }\n",
    "}\n",
    "```\n",
    "\n",
    "**How does the VideoEncoder object notify other classes?**\n",
    "We need to construct an agreement between the publishers and the subscribers, which is a method with a specific signature. A typical implementation would look like this: \n",
    "```C#\n",
    "public void onVideoEncoded(object source, EventArgs e)\n",
    "{\n",
    "}\n",
    "```\n",
    "The method ```onVideoEncoded()``` is called an **Event Handler**. Therefore, we need to have a method like that in the MailService and MessageService classes. \n",
    "We use **delegates** to call the event handler in the subsciber. \n",
    "\n",
    "> **Delegates**:\n",
    ">    - Agreement/ Contract between Publisher and Subscriber. \n",
    ">    - Determintes the signature of the event handler method in the Subscriber. \n"
   ]
  },
  {
   "cell_type": "code",
   "execution_count": 20,
   "id": "6839ff82",
   "metadata": {},
   "outputs": [],
   "source": [
    "//Program.cs \n",
    "\n",
    "public class Program\n",
    "{\n",
    "    public static void Main()\n",
    "    {\n",
    "        var video = new Video() {Title = \"Video 1\"};\n",
    "        var videoEncoder = new VideoEncoder(); \n",
    "        \n",
    "        videoEncoder.Encode(video);\n",
    "    }\n",
    "}\n"
   ]
  },
  {
   "cell_type": "code",
   "execution_count": 13,
   "id": "dae320f6",
   "metadata": {},
   "outputs": [],
   "source": [
    "// Video.cs\n",
    "\n",
    "public class Video\n",
    "{\n",
    "    public string Title {get; set;}\n",
    "}"
   ]
  },
  {
   "cell_type": "code",
   "execution_count": 14,
   "id": "3116d78c",
   "metadata": {},
   "outputs": [],
   "source": [
    "// VideoEncoder.cs\n",
    "\n",
    "public class VideoEncoder\n",
    "{\n",
    "    public void Encode(Video video)\n",
    "    {\n",
    "        Console.WriteLine(\"Encodig video ..\");\n",
    "        System.Threading.Thread.Sleep(3000);\n",
    "    }\n",
    "}"
   ]
  },
  {
   "cell_type": "code",
   "execution_count": 21,
   "id": "472135b9",
   "metadata": {
    "scrolled": false
   },
   "outputs": [
    {
     "name": "stdout",
     "output_type": "stream",
     "text": [
      "Encodig video ..\r\n"
     ]
    }
   ],
   "source": [
    "// Executing the program\n",
    "Program.Main();"
   ]
  }
 ],
 "metadata": {
  "kernelspec": {
   "display_name": ".NET (C#)",
   "language": "C#",
   "name": ".net-csharp"
  },
  "language_info": {
   "file_extension": ".cs",
   "mimetype": "text/x-csharp",
   "name": "C#",
   "pygments_lexer": "csharp",
   "version": "8.0"
  }
 },
 "nbformat": 4,
 "nbformat_minor": 5
}
