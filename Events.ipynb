{
 "cells": [
  {
   "cell_type": "markdown",
   "id": "11986b7d",
   "metadata": {},
   "source": [
    "# Events \n",
    "\n",
    "- A mechanism for communication between objects.\n",
    "- Used in building loosely coupled applications.\n",
    "- Helps extending applications."
   ]
  },
  {
   "cell_type": "markdown",
   "id": "5f901dad",
   "metadata": {},
   "source": [
    "### Implementing event subscribers \n",
    "\n",
    "- Remember as we said mentioned in [1- Intro to Events](https://github.com/MamadovZaki/dotNet/blob/c7176ecd517a72b94bde8a32f4efce04fcbd245d/Events.ipynb) commit that we need an event handler method in each subsciber class. \n",
    "\n",
    "1. We need to setup the event handler method in the subscriber class. \n",
    "2. Subscribe to the even in the Main method. "
   ]
  },
  {
   "cell_type": "code",
   "execution_count": null,
   "id": "dae320f6",
   "metadata": {},
   "outputs": [],
   "source": [
    "// Video.cs\n",
    "\n",
    "public class Video\n",
    "{\n",
    "    public string Title {get; set;}\n",
    "}"
   ]
  },
  {
   "cell_type": "code",
   "execution_count": null,
   "id": "3116d78c",
   "metadata": {},
   "outputs": [],
   "source": [
    "// VideoEncoder.cs\n",
    "\n",
    "public class VideoEncoder\n",
    "{\n",
    "    public delegate void VideoEncodedEventHandler(object source, EventArgs e); //define a delegate\n",
    "    \n",
    "    public event VideoEncodedEventHandler VideoEncoded; //define an event based on that delegate\n",
    "    \n",
    "    public void Encode(Video video)\n",
    "    {\n",
    "        Console.WriteLine(\"Encodig video ..\");\n",
    "        System.Threading.Thread.Sleep(3000);\n",
    "    }\n",
    "    \n",
    "    protected virtual void OnVideoEncoded()\n",
    "    {\n",
    "        if (VideoEncoded != null)\n",
    "            /*\n",
    "                source is the calling object which is \"this\"\n",
    "                The second argument is used if we wanna pass any additional data\n",
    "                in this case we don't need to \n",
    "            */\n",
    "            VideoEncoded(this, EventArgs.Empty);\n",
    "        \n",
    "        else\n",
    "            Console.WriteLine(\"Checking\");\n",
    "    }\n",
    "}"
   ]
  },
  {
   "cell_type": "code",
   "execution_count": null,
   "id": "2d6144f0",
   "metadata": {},
   "outputs": [],
   "source": [
    "public class MailService\n",
    "{\n",
    "    public void OnVideoEncoded(object source, EventArgs e)\n",
    "    {\n",
    "        SendMail(); \n",
    "    }\n",
    "    \n",
    "    public void SendMail()\n",
    "    {\n",
    "        Console.WriteLine(\"Sending Mail ..\");\n",
    "    }\n",
    "}"
   ]
  },
  {
   "cell_type": "code",
   "execution_count": null,
   "id": "bfeef6dd",
   "metadata": {},
   "outputs": [],
   "source": [
    "public class MessageService\n",
    "{\n",
    "    public void OnVideoEncoded(object source, EventArgs e)\n",
    "    {\n",
    "        SendMessage(); \n",
    "    }\n",
    "    \n",
    "    public void SendMessage()\n",
    "    {\n",
    "        Console.WriteLine(\"Sending Message ..\");\n",
    "    }\n",
    "}"
   ]
  },
  {
   "cell_type": "code",
   "execution_count": null,
   "id": "6839ff82",
   "metadata": {},
   "outputs": [],
   "source": [
    "//Program.cs \n",
    "\n",
    "public class Program\n",
    "{\n",
    "    public static void Main()\n",
    "    {\n",
    "        var video = new Video() {Title = \"Video 1\"};\n",
    "        var videoEncoder = new VideoEncoder(); //publisher\n",
    "        var mailService = new MailService(); //subscriber\n",
    "        var messageService = new MessageService(); //subsciber\n",
    "        \n",
    "        videoEncoder.VideoEncoded += mailService.OnVideoEncoded; //register the event handler\n",
    "        videoEncoder.VideoEncoded += messageService.OnVideoEncoded; //register another one \n",
    "        \n",
    "        videoEncoder.Encode(video);\n",
    "    }\n",
    "}\n"
   ]
  },
  {
   "cell_type": "code",
   "execution_count": null,
   "id": "472135b9",
   "metadata": {
    "scrolled": false
   },
   "outputs": [],
   "source": [
    "// Executing the program\n",
    "Program.Main();"
   ]
  }
 ],
 "metadata": {
  "kernelspec": {
   "display_name": ".NET (C#)",
   "language": "C#",
   "name": ".net-csharp"
  },
  "language_info": {
   "file_extension": ".cs",
   "mimetype": "text/x-csharp",
   "name": "C#",
   "pygments_lexer": "csharp",
   "version": "8.0"
  }
 },
 "nbformat": 4,
 "nbformat_minor": 5
}
