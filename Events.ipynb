{
 "cells": [
  {
   "cell_type": "markdown",
   "id": "11986b7d",
   "metadata": {},
   "source": [
    "# Events \n",
    "\n",
    "- A mechanism for communication between objects.\n",
    "- Used in building loosely coupled applications.\n",
    "- Helps extending applications."
   ]
  },
  {
   "cell_type": "markdown",
   "id": "5f901dad",
   "metadata": {},
   "source": [
    "### Sending data to event handler \n",
    "\n",
    "- Sometimes we wish to send data to the event handlers associated with the subscribers, to implement that we implement a special class that inherits ```EventArgs``` class. \n",
    "- It is a common convention to call this class ```DataEventHandler```. "
   ]
  },
  {
   "cell_type": "code",
   "execution_count": 1,
   "id": "dae320f6",
   "metadata": {},
   "outputs": [],
   "source": [
    "// Video.cs\n",
    "\n",
    "public class Video\n",
    "{\n",
    "    public string Title {get; set;}\n",
    "}"
   ]
  },
  {
   "cell_type": "code",
   "execution_count": 2,
   "id": "da091e48",
   "metadata": {},
   "outputs": [],
   "source": [
    "public class VideoEventArgs : EventArgs \n",
    "{\n",
    "    public Video Video {get; set;}\n",
    "}"
   ]
  },
  {
   "cell_type": "code",
   "execution_count": 3,
   "id": "3116d78c",
   "metadata": {},
   "outputs": [],
   "source": [
    "// VideoEncoder.cs\n",
    "\n",
    "public class VideoEncoder\n",
    "{\n",
    "    public delegate void VideoEncodedEventHandler(object source, VideoEventArgs e); //define a delegate\n",
    "    \n",
    "    public event VideoEncodedEventHandler VideoEncoded; //define an event based on that delegate\n",
    "    \n",
    "    public void Encode(Video video)\n",
    "    {\n",
    "        Console.WriteLine(\"Encodig video ..\");\n",
    "        System.Threading.Thread.Sleep(3000);\n",
    "        \n",
    "        OnVideoEncoded(video);\n",
    "    }\n",
    "    \n",
    "    protected virtual void OnVideoEncoded(Video video)\n",
    "    {\n",
    "        if (VideoEncoded != null)\n",
    "            /*\n",
    "                source is the calling object which is \"this\"\n",
    "                The second argument is used if we wanna pass any additional data\n",
    "                in this case we don't need to \n",
    "            */\n",
    "            VideoEncoded(this, new VideoEventArgs() {Video = video});\n",
    "        \n",
    "        else\n",
    "            Console.WriteLine(\"Checking\");\n",
    "    }\n",
    "}"
   ]
  },
  {
   "cell_type": "code",
   "execution_count": 14,
   "id": "8f92799f",
   "metadata": {},
   "outputs": [],
   "source": [
    "public class MailService\n",
    "{\n",
    "    public void OnVideoEncoded(object source, VideoEventArgs e)\n",
    "    {\n",
    "        SendMail(e); \n",
    "    }\n",
    "    \n",
    "    public void SendMail(VideoEventArgs e)\n",
    "    {\n",
    "        Console.WriteLine($\"Sending Mail .. {e.Video.Title}\");\n",
    "    }\n",
    "}"
   ]
  },
  {
   "cell_type": "code",
   "execution_count": 15,
   "id": "08068c52",
   "metadata": {},
   "outputs": [],
   "source": [
    "public class MessageService\n",
    "{\n",
    "    public void OnVideoEncoded(object source, VideoEventArgs e)\n",
    "    {\n",
    "        SendMessage(e); \n",
    "    }\n",
    "    \n",
    "    public void SendMessage(VideoEventArgs e)\n",
    "    {\n",
    "        Console.WriteLine($\"Sending Message .. {e.Video.Title}\");\n",
    "    }\n",
    "}"
   ]
  },
  {
   "cell_type": "code",
   "execution_count": 16,
   "id": "6839ff82",
   "metadata": {},
   "outputs": [],
   "source": [
    "//Program.cs \n",
    "\n",
    "public class Program\n",
    "{\n",
    "    public static void Main()\n",
    "    {\n",
    "        var video = new Video() {Title = \"Video 1\"};\n",
    "        var videoEncoder = new VideoEncoder(); //publisher\n",
    "        var mailService = new MailService(); //subscriber\n",
    "        var messageService = new MessageService(); //subsciber\n",
    "        \n",
    "        videoEncoder.VideoEncoded += mailService.OnVideoEncoded; //register the event handler\n",
    "        videoEncoder.VideoEncoded += messageService.OnVideoEncoded; //register another one \n",
    "        \n",
    "        videoEncoder.Encode(video);\n",
    "    }\n",
    "}\n"
   ]
  },
  {
   "cell_type": "code",
   "execution_count": 17,
   "id": "472135b9",
   "metadata": {
    "scrolled": false
   },
   "outputs": [
    {
     "name": "stdout",
     "output_type": "stream",
     "text": [
      "Encodig video ..\n",
      "Sending Mail .. Video 1\n",
      "Sending Message ..Video 1\n"
     ]
    }
   ],
   "source": [
    "// Executing the program\n",
    "Program.Main();"
   ]
  }
 ],
 "metadata": {
  "kernelspec": {
   "display_name": ".NET (C#)",
   "language": "C#",
   "name": ".net-csharp"
  },
  "language_info": {
   "file_extension": ".cs",
   "mimetype": "text/x-csharp",
   "name": "C#",
   "pygments_lexer": "csharp",
   "version": "8.0"
  }
 },
 "nbformat": 4,
 "nbformat_minor": 5
}
